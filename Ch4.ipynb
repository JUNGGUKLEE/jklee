{
  "nbformat": 4,
  "nbformat_minor": 0,
  "metadata": {
    "colab": {
      "name": "Ch4",
      "provenance": [],
      "collapsed_sections": [
        "LocFX9d8U6Bk",
        "4b5QhxDAVbpI",
        "7zU5IUNaV3aJ",
        "QHfeNGF2pczr",
        "zcJqbzCUqKVI",
        "RVnY9etSqKQD",
        "T9DOngwBseNQ",
        "l1Kjfik7I-hF"
      ],
      "authorship_tag": "ABX9TyM1uKiYeMxViYiEodYyu7+H",
      "include_colab_link": true
    },
    "kernelspec": {
      "name": "python3",
      "display_name": "Python 3"
    },
    "language_info": {
      "name": "python"
    }
  },
  "cells": [
    {
      "cell_type": "markdown",
      "metadata": {
        "id": "view-in-github",
        "colab_type": "text"
      },
      "source": [
        "<a href=\"https://colab.research.google.com/github/JUNGGUKLEE/jklee/blob/main/Ch4.ipynb\" target=\"_parent\"><img src=\"https://colab.research.google.com/assets/colab-badge.svg\" alt=\"Open In Colab\"/></a>"
      ]
    },
    {
      "cell_type": "markdown",
      "metadata": {
        "id": "LocFX9d8U6Bk"
      },
      "source": [
        "\n",
        "\n",
        "# **Fundamentals of Machine Learning**\n",
        "\n",
        "---\n",
        "\n",
        "\n",
        "Four branches of machine learning\n",
        "\n",
        "Evaluating machine - learning models\n",
        "\n",
        "Data preprocessing, feature enginerring, and feature learning\n",
        "\n",
        "Overfitting and underfitting\n",
        "\n",
        "The universal workflow of machine learning"
      ]
    },
    {
      "cell_type": "markdown",
      "metadata": {
        "id": "4b5QhxDAVbpI"
      },
      "source": [
        "#**Four branches of machine learning**\n",
        "\n",
        "\n",
        "---\n",
        "\n",
        "\n",
        "Supervised learning\n",
        "\n",
        "Unsupervised learning\n",
        "\n",
        "Self - supervised learning\n",
        "\n",
        "Reinforcement learning"
      ]
    },
    {
      "cell_type": "markdown",
      "metadata": {
        "id": "7zU5IUNaV3aJ"
      },
      "source": [
        "#Supervised learning\n",
        "    Learning to map input data to known targets\n",
        "    ex) classification, regression, object detection, image segmentation, etc\n",
        "\n",
        "# Unsupervised learning\n",
        "    Finding interesting transformations of the input data without the help of any targets\n",
        "    ex) Dimension reduction, clustering, etc.\n",
        "\n",
        "#Self-supervised learning\n",
        "    Supervised learning without human annotated labels\n",
        "    ex) autoencoder\n",
        "\n",
        "#Reinforcement learning\n",
        "    how agents ought to take actions in an environment in order to maximize the cumulative reward"
      ]
    },
    {
      "cell_type": "markdown",
      "metadata": {
        "id": "NlojZOlzWVYS"
      },
      "source": [
        "#Evaluating machine-learning models\n",
        "    Goal is to achieve models that generalize\n",
        "    Evaluate with training, validation, and test sets \n",
        "    -> validation을 중간에 두는 경향이 많음.\n",
        " \n",
        "\n",
        "---\n",
        "\n",
        "\n",
        " Tuning parameters and hyperparameters is a form of learning\n",
        "\n",
        " Tuning is based on its performance on validation set\n",
        "\n",
        " Tuning a lot would cause information leak\n",
        " \n",
        " Thus, you need never-before-seen test dataset"
      ]
    },
    {
      "cell_type": "code",
      "metadata": {
        "id": "GWxH_3eIUtVH"
      },
      "source": [
        "#validation 기법"
      ],
      "execution_count": null,
      "outputs": []
    },
    {
      "cell_type": "code",
      "metadata": {
        "id": "57PCgPEBUv1O"
      },
      "source": [
        "#Simple hold-out validation\n",
        "#전체 데이터 set이 있으면 일정부분은 Training set, 일정부분은 Hold-out validation set(evaluate set)"
      ],
      "execution_count": null,
      "outputs": []
    },
    {
      "cell_type": "code",
      "metadata": {
        "id": "S4QO-cWlXGCO"
      },
      "source": [
        "#num_validation_samples = 10000\n",
        "#np.random.shuffle(data)\n",
        "#validation_data = data[:num_validation_samples]\n",
        "#data = data[num_validation_samples:]\n",
        "#training_data = data[:]\n",
        "\n",
        "#model=get_model()\n",
        "#model.train(training_data)\n",
        "#validation_score = model.evaluate(validation_data)\n",
        "\n",
        "#model=get_model()\n",
        "#model.train(np.concatenate([traing_data,validation_data]))\n",
        "#test_score = model.evaluate(test_data)"
      ],
      "execution_count": null,
      "outputs": []
    },
    {
      "cell_type": "code",
      "metadata": {
        "id": "7piblEBCb_U4"
      },
      "source": [
        "#K-Fold validation\n",
        "#data가 적거나 효율적으로 사용해야 할때 사용한다."
      ],
      "execution_count": null,
      "outputs": []
    },
    {
      "cell_type": "code",
      "metadata": {
        "id": "zv-ruqDNcSNO"
      },
      "source": [
        "#k = 4\n",
        "#num_validation_samples = len(data)//k\n",
        "\n",
        "#np.random.shuffle(data)\n",
        "\n",
        "#validation_scores=[]\n",
        "#for fold in range(k):\n",
        " # validation_data = data[num_validation_samples*fold:\n",
        "  #                       num_validation_samples*(fold+1)]\n",
        "  #training_data = data[:num_validation_samples*fold]+data[num_validation_samples*(fold+1):]\n",
        "\n",
        "  #model = get_model()\n",
        "  #model.train(training_data)\n",
        "  #validation_score = model.evaluate(validation_data)\n",
        "  #validation_scores.append(validation_score)\n",
        "\n",
        "#validation_score = np.average(validation_scores)\n",
        "\n",
        "#model = get_model()\n",
        "#model.train(data)\n",
        "#test_score = model.evaluate(test_data)"
      ],
      "execution_count": null,
      "outputs": []
    },
    {
      "cell_type": "markdown",
      "metadata": {
        "id": "QHfeNGF2pczr"
      },
      "source": [
        "#**Things to keep in mind**\n",
        "\n",
        "Data representativeness\n",
        "\n",
        ": Randomly shuffle data before splitting it\n",
        "\n",
        "the arrow of time\n",
        "\n",
        ":If you are predicting future event, don't shuffle.\n",
        "Use future data as test set\n",
        "(미래에 있는 데이터 set을 테스트 셋으로 활용)\n",
        "\n",
        "Redundancy in your data\n",
        "\n",
        ":(데이터를 잘 정리해라, 중복데이터를 정리한다던가 등등)"
      ]
    },
    {
      "cell_type": "markdown",
      "metadata": {
        "id": "zcJqbzCUqKVI"
      },
      "source": [
        "#**Data preprocessing, feature engineering, and feature learning**\n",
        "\n",
        "데이터를 그냥 넣으면돼?\n",
        "\n",
        "how to prepare the input data and targets before feeding them into a neural network?\n",
        "\n",
        "\n",
        "\n",
        "---\n",
        "\n",
        "***Data preprocessing for neural networks***\n",
        "\n",
        "***Feature engineering***\n",
        "\n",
        "\n",
        "\n"
      ]
    },
    {
      "cell_type": "markdown",
      "metadata": {
        "id": "RVnY9etSqKQD"
      },
      "source": [
        "#**Data preprocessing for neural networks**\n",
        "\n",
        "Vectorization\n",
        "        \n",
        "    : All inputs must be tensors.\n",
        "\n",
        "Value normalization\n",
        "   \n",
        "    : Take small values : most values in 0 - 1\n",
        "    : Be homogenous = all features should take values in roughly the same range\n",
        "\n",
        "Handling missing data\n",
        "\n",
        "    : train_data 에만 missing이 존재하고 test 에는 없는 경우도 있다. 그럴 경우에는 test에도 train 과 비슷한 상황을 만들어 주어야 한다.  \n"
      ]
    },
    {
      "cell_type": "markdown",
      "metadata": {
        "id": "T9DOngwBseNQ"
      },
      "source": [
        "#**Feature engineering**\n",
        "\n",
        "Process of using domain knowledge to extract features from raw data\n",
        "\n",
        "\n",
        "Used to improve the performance of machine learning algorithms\n",
        "\n",
        "Essence of feature engineering : making a problem easier by expressing it in a simpler way\n",
        "\n",
        "Before deep learning, feature engineering used to be critical \n",
        "\n",
        "( 왜 중요했냐? 딥러닝 나오기 전에는 사람이 손으로 했다)\n",
        "\n",
        "Modern deep-learning automatically do feature engineering but still we need good features"
      ]
    },
    {
      "cell_type": "markdown",
      "metadata": {
        "id": "l1Kjfik7I-hF"
      },
      "source": [
        "#**Overfitting and underfitting**\n",
        "\n",
        "\n",
        "\n",
        "---\n",
        "\n",
        "\n",
        "ex) O 와 X를 구분하는 문제\n",
        "\n",
        "Under fitting : Too simple to explain the variance\n",
        "\n",
        "Over fitting : Too good to be ture ( 트레이닝 셋트에서는 매우 좋은 결과를 나타내지만 테스트 셋에서는 에러율이 올라가는 현상 나타남, 너무모형이 복잡해지는것)\n",
        "\n"
      ]
    },
    {
      "cell_type": "markdown",
      "metadata": {
        "id": "1FDumKXeQDDm"
      },
      "source": [
        "#Getting more data as you can\n",
        "#Reducing the network's size\n",
        "\n",
        "\n",
        "The simplest way to prevent overfitting is to reduce the size of the model"
      ]
    },
    {
      "cell_type": "code",
      "metadata": {
        "colab": {
          "base_uri": "https://localhost:8080/"
        },
        "id": "wcb0gSPEt-wI",
        "outputId": "167a82fc-4753-492e-a1fb-4cf2ed1b9520"
      },
      "source": [
        "from tensorflow.keras.datasets import imdb\n",
        "import numpy as np\n",
        "\n",
        "(train_data,train_labels), (test_data, test_labels) = imdb.load_data(num_words=10000)"
      ],
      "execution_count": null,
      "outputs": [
        {
          "output_type": "stream",
          "text": [
            "<string>:6: VisibleDeprecationWarning: Creating an ndarray from ragged nested sequences (which is a list-or-tuple of lists-or-tuples-or ndarrays with different lengths or shapes) is deprecated. If you meant to do this, you must specify 'dtype=object' when creating the ndarray\n",
            "/usr/local/lib/python3.7/dist-packages/tensorflow/python/keras/datasets/imdb.py:155: VisibleDeprecationWarning: Creating an ndarray from ragged nested sequences (which is a list-or-tuple of lists-or-tuples-or ndarrays with different lengths or shapes) is deprecated. If you meant to do this, you must specify 'dtype=object' when creating the ndarray\n",
            "  x_train, y_train = np.array(xs[:idx]), np.array(labels[:idx])\n",
            "/usr/local/lib/python3.7/dist-packages/tensorflow/python/keras/datasets/imdb.py:156: VisibleDeprecationWarning: Creating an ndarray from ragged nested sequences (which is a list-or-tuple of lists-or-tuples-or ndarrays with different lengths or shapes) is deprecated. If you meant to do this, you must specify 'dtype=object' when creating the ndarray\n",
            "  x_test, y_test = np.array(xs[idx:]), np.array(labels[idx:])\n"
          ],
          "name": "stderr"
        }
      ]
    },
    {
      "cell_type": "code",
      "metadata": {
        "id": "VeHM0LHYwEHe"
      },
      "source": [
        "def vectorize_sequences(sequences, dimension=10000):\n",
        "  results = np.zeros((len(sequences),dimension))\n",
        "  for i, sequences in enumerate(sequences):\n",
        "    results[i, sequences] = 1.\n",
        "  return results\n",
        "\n",
        "x_train = vectorize_sequences(train_data)\n",
        "x_test = vectorize_sequences(test_data)\n",
        "\n",
        "y_train = np.asarray(train_labels).astype('float32')\n",
        "y_test = np.asarray(test_labels).astype('float32')"
      ],
      "execution_count": null,
      "outputs": []
    },
    {
      "cell_type": "code",
      "metadata": {
        "id": "c071_JqlQneJ"
      },
      "source": [
        "from tensorflow.keras import models\n",
        "from tensorflow.keras import layers\n",
        "\n",
        "original_model = models.Sequential()\n",
        "original_model.add(layers.Dense(16, activation='relu', input_shape=(10000,)))\n",
        "original_model.add(layers.Dense(16, activation='relu'))\n",
        "original_model.add(layers.Dense(1, activation='sigmoid'))\n",
        "\n",
        "original_model.compile(optimizer='rmsprop',\n",
        "                       loss='binary_crossentropy',\n",
        "                       metrics=['acc'])"
      ],
      "execution_count": null,
      "outputs": []
    },
    {
      "cell_type": "code",
      "metadata": {
        "id": "LFPpbxt929th"
      },
      "source": [
        "smaller_model = models.Sequential()\n",
        "smaller_model.add(layers.Dense(4, activation='relu', input_shape=(10000,)))\n",
        "smaller_model.add(layers.Dense(4, activation='relu'))\n",
        "smaller_model.add(layers.Dense(1, activation='sigmoid'))\n",
        "\n",
        "smaller_model.compile(optimizer='rmsprop',\n",
        "                      loss='binary_crossentropy',\n",
        "                      metrics=['acc'])"
      ],
      "execution_count": null,
      "outputs": []
    },
    {
      "cell_type": "code",
      "metadata": {
        "colab": {
          "base_uri": "https://localhost:8080/"
        },
        "id": "v1-i_-mX3APz",
        "outputId": "2e35e8a7-b756-4ce3-de99-7d82227913c3"
      },
      "source": [
        "original_hist = original_model.fit(x_train, y_train, epochs=20, batch_size=512, validation_data=(x_test,y_test))"
      ],
      "execution_count": null,
      "outputs": [
        {
          "output_type": "stream",
          "text": [
            "Epoch 1/20\n",
            "49/49 [==============================] - 5s 96ms/step - loss: 0.4490 - acc: 0.8194 - val_loss: 0.3312 - val_acc: 0.8821\n",
            "Epoch 2/20\n",
            "49/49 [==============================] - 2s 43ms/step - loss: 0.2569 - acc: 0.9104 - val_loss: 0.2842 - val_acc: 0.8886\n",
            "Epoch 3/20\n",
            "49/49 [==============================] - 2s 40ms/step - loss: 0.1976 - acc: 0.9299 - val_loss: 0.2965 - val_acc: 0.8808\n",
            "Epoch 4/20\n",
            "49/49 [==============================] - 2s 40ms/step - loss: 0.1643 - acc: 0.9422 - val_loss: 0.3499 - val_acc: 0.8637\n",
            "Epoch 5/20\n",
            "49/49 [==============================] - 2s 45ms/step - loss: 0.1407 - acc: 0.9499 - val_loss: 0.3169 - val_acc: 0.8780\n",
            "Epoch 6/20\n",
            "49/49 [==============================] - 2s 41ms/step - loss: 0.1218 - acc: 0.9582 - val_loss: 0.3389 - val_acc: 0.8755\n",
            "Epoch 7/20\n",
            "49/49 [==============================] - 2s 40ms/step - loss: 0.1035 - acc: 0.9659 - val_loss: 0.3572 - val_acc: 0.8728\n",
            "Epoch 8/20\n",
            "49/49 [==============================] - 2s 40ms/step - loss: 0.0917 - acc: 0.9697 - val_loss: 0.3987 - val_acc: 0.8672\n",
            "Epoch 9/20\n",
            "49/49 [==============================] - 2s 40ms/step - loss: 0.0746 - acc: 0.9763 - val_loss: 0.4139 - val_acc: 0.8675\n",
            "Epoch 10/20\n",
            "49/49 [==============================] - 2s 40ms/step - loss: 0.0674 - acc: 0.9796 - val_loss: 0.4422 - val_acc: 0.8646\n",
            "Epoch 11/20\n",
            "49/49 [==============================] - 2s 41ms/step - loss: 0.0559 - acc: 0.9832 - val_loss: 0.4679 - val_acc: 0.8644\n",
            "Epoch 12/20\n",
            "49/49 [==============================] - 2s 40ms/step - loss: 0.0453 - acc: 0.9875 - val_loss: 0.5032 - val_acc: 0.8612\n",
            "Epoch 13/20\n",
            "49/49 [==============================] - 2s 40ms/step - loss: 0.0400 - acc: 0.9892 - val_loss: 0.5355 - val_acc: 0.8604\n",
            "Epoch 14/20\n",
            "49/49 [==============================] - 2s 40ms/step - loss: 0.0318 - acc: 0.9910 - val_loss: 0.5678 - val_acc: 0.8580\n",
            "Epoch 15/20\n",
            "49/49 [==============================] - 2s 40ms/step - loss: 0.0247 - acc: 0.9938 - val_loss: 0.6418 - val_acc: 0.8508\n",
            "Epoch 16/20\n",
            "49/49 [==============================] - 2s 44ms/step - loss: 0.0182 - acc: 0.9962 - val_loss: 0.6569 - val_acc: 0.8549\n",
            "Epoch 17/20\n",
            "49/49 [==============================] - 2s 43ms/step - loss: 0.0180 - acc: 0.9958 - val_loss: 0.7452 - val_acc: 0.8462\n",
            "Epoch 18/20\n",
            "49/49 [==============================] - 2s 40ms/step - loss: 0.0109 - acc: 0.9981 - val_loss: 0.7429 - val_acc: 0.8531\n",
            "Epoch 19/20\n",
            "49/49 [==============================] - 2s 41ms/step - loss: 0.0109 - acc: 0.9976 - val_loss: 0.7859 - val_acc: 0.8520\n",
            "Epoch 20/20\n",
            "49/49 [==============================] - 2s 40ms/step - loss: 0.0083 - acc: 0.9980 - val_loss: 0.8278 - val_acc: 0.8516\n"
          ],
          "name": "stdout"
        }
      ]
    },
    {
      "cell_type": "code",
      "metadata": {
        "colab": {
          "base_uri": "https://localhost:8080/"
        },
        "id": "sw-P2Dvd6p41",
        "outputId": "fa278b73-a4b9-4cd9-faa6-4cf91f79d0ef"
      },
      "source": [
        "smaller_model_hist = smaller_model.fit(x_train, y_train, epochs = 20, batch_size= 512, validation_data=(x_test,y_test))"
      ],
      "execution_count": null,
      "outputs": [
        {
          "output_type": "stream",
          "text": [
            "Epoch 1/20\n",
            "49/49 [==============================] - 3s 54ms/step - loss: 0.5068 - acc: 0.8156 - val_loss: 0.4111 - val_acc: 0.8671\n",
            "Epoch 2/20\n",
            "49/49 [==============================] - 2s 38ms/step - loss: 0.3342 - acc: 0.8934 - val_loss: 0.3304 - val_acc: 0.8826\n",
            "Epoch 3/20\n",
            "49/49 [==============================] - 2s 36ms/step - loss: 0.2601 - acc: 0.9124 - val_loss: 0.2952 - val_acc: 0.8877\n",
            "Epoch 4/20\n",
            "49/49 [==============================] - 2s 37ms/step - loss: 0.2190 - acc: 0.9262 - val_loss: 0.2826 - val_acc: 0.8880\n",
            "Epoch 5/20\n",
            "49/49 [==============================] - 2s 42ms/step - loss: 0.1918 - acc: 0.9341 - val_loss: 0.2789 - val_acc: 0.8882\n",
            "Epoch 6/20\n",
            "49/49 [==============================] - 2s 37ms/step - loss: 0.1706 - acc: 0.9409 - val_loss: 0.2844 - val_acc: 0.8866\n",
            "Epoch 7/20\n",
            "49/49 [==============================] - 2s 36ms/step - loss: 0.1549 - acc: 0.9462 - val_loss: 0.2937 - val_acc: 0.8835\n",
            "Epoch 8/20\n",
            "49/49 [==============================] - 2s 36ms/step - loss: 0.1416 - acc: 0.9519 - val_loss: 0.2997 - val_acc: 0.8828\n",
            "Epoch 9/20\n",
            "49/49 [==============================] - 2s 37ms/step - loss: 0.1305 - acc: 0.9567 - val_loss: 0.3080 - val_acc: 0.8812\n",
            "Epoch 10/20\n",
            "49/49 [==============================] - 2s 37ms/step - loss: 0.1213 - acc: 0.9600 - val_loss: 0.3196 - val_acc: 0.8789\n",
            "Epoch 11/20\n",
            "49/49 [==============================] - 2s 36ms/step - loss: 0.1118 - acc: 0.9642 - val_loss: 0.3355 - val_acc: 0.8762\n",
            "Epoch 12/20\n",
            "49/49 [==============================] - 2s 36ms/step - loss: 0.1050 - acc: 0.9660 - val_loss: 0.3474 - val_acc: 0.8745\n",
            "Epoch 13/20\n",
            "49/49 [==============================] - 2s 41ms/step - loss: 0.0977 - acc: 0.9694 - val_loss: 0.3764 - val_acc: 0.8675\n",
            "Epoch 14/20\n",
            "49/49 [==============================] - 2s 37ms/step - loss: 0.0913 - acc: 0.9715 - val_loss: 0.3778 - val_acc: 0.8698\n",
            "Epoch 15/20\n",
            "49/49 [==============================] - 2s 37ms/step - loss: 0.0854 - acc: 0.9741 - val_loss: 0.3952 - val_acc: 0.8673\n",
            "Epoch 16/20\n",
            "49/49 [==============================] - 2s 36ms/step - loss: 0.0796 - acc: 0.9763 - val_loss: 0.4116 - val_acc: 0.8674\n",
            "Epoch 17/20\n",
            "49/49 [==============================] - 2s 36ms/step - loss: 0.0744 - acc: 0.9783 - val_loss: 0.4266 - val_acc: 0.8659\n",
            "Epoch 18/20\n",
            "49/49 [==============================] - 2s 36ms/step - loss: 0.0699 - acc: 0.9798 - val_loss: 0.4476 - val_acc: 0.8627\n",
            "Epoch 19/20\n",
            "49/49 [==============================] - 2s 48ms/step - loss: 0.0646 - acc: 0.9814 - val_loss: 0.4662 - val_acc: 0.8628\n",
            "Epoch 20/20\n",
            "49/49 [==============================] - 2s 45ms/step - loss: 0.0607 - acc: 0.9834 - val_loss: 0.4865 - val_acc: 0.8614\n"
          ],
          "name": "stdout"
        }
      ]
    },
    {
      "cell_type": "code",
      "metadata": {
        "id": "SCLboKjzMWYb"
      },
      "source": [
        "epochs = range(1,21)\n",
        "original_val_loss = original_hist.history['val_loss']\n",
        "smaller_model_val_loss=smaller_model_hist.history['val_loss']"
      ],
      "execution_count": null,
      "outputs": []
    },
    {
      "cell_type": "code",
      "metadata": {
        "colab": {
          "base_uri": "https://localhost:8080/"
        },
        "id": "4M7NqT60Sqeo",
        "outputId": "b6e6f967-36a4-494b-fd74-1ac4ac14d920"
      },
      "source": [
        "original_dict=original_hist.history\n",
        "\n",
        "original_dict.keys()"
      ],
      "execution_count": null,
      "outputs": [
        {
          "output_type": "execute_result",
          "data": {
            "text/plain": [
              "dict_keys(['loss', 'acc', 'val_loss', 'val_acc'])"
            ]
          },
          "metadata": {
            "tags": []
          },
          "execution_count": 49
        }
      ]
    },
    {
      "cell_type": "code",
      "metadata": {
        "colab": {
          "base_uri": "https://localhost:8080/",
          "height": 279
        },
        "id": "ovLz6v2AR4GZ",
        "outputId": "28b3c807-fe84-4ad6-d0c6-02ffc34b40b1"
      },
      "source": [
        "import matplotlib.pyplot as plt\n",
        "\n",
        "plt.plot(epochs, original_val_loss, 'b+', label = 'Original model')\n",
        "plt.plot(epochs, smaller_model_val_loss, 'bo', label = 'Smaller model')\n",
        "plt.xlabel('Epochs')\n",
        "plt.ylabel('Validation loss')\n",
        "plt.legend()\n",
        "\n",
        "plt.show()"
      ],
      "execution_count": null,
      "outputs": [
        {
          "output_type": "display_data",
          "data": {
            "image/png": "[encoded data removed]",
            "text/plain": [
              "<Figure size 432x288 with 1 Axes>"
            ]
          },
          "metadata": {
            "tags": [],
            "needs_background": "light"
          }
        }
      ]
    },
    {
      "cell_type": "code",
      "metadata": {
        "id": "fUdZmZznWFTL"
      },
      "source": [
        "bigger_model = models.Sequential()\n",
        "bigger_model.add(layers.Dense(512, activation='relu', input_shape=(10000,)))\n",
        "bigger_model.add(layers.Dense(512, activation='relu'))\n",
        "bigger_model.add(layers.Dense(1, activation='sigmoid'))\n",
        "\n",
        "bigger_model.compile(optimizer='rmsprop',\n",
        "                      loss='binary_crossentropy',\n",
        "                      metrics=['acc'])"
      ],
      "execution_count": null,
      "outputs": []
    },
    {
      "cell_type": "code",
      "metadata": {
        "colab": {
          "base_uri": "https://localhost:8080/"
        },
        "id": "3u94Ymd9WQjv",
        "outputId": "ca64e11f-50de-4067-ded9-a5c20335d249"
      },
      "source": [
        "bigger_model_hist = bigger_model.fit(x_train, y_train, epochs = 20, batch_size= 512, validation_data=(x_test,y_test))"
      ],
      "execution_count": null,
      "outputs": [
        {
          "output_type": "stream",
          "text": [
            "Epoch 1/20\n",
            "49/49 [==============================] - 18s 378ms/step - loss: 5.9823e-09 - acc: 1.0000 - val_loss: 1.6192 - val_acc: 0.8756\n",
            "Epoch 2/20\n",
            "49/49 [==============================] - 17s 353ms/step - loss: 5.1580e-09 - acc: 1.0000 - val_loss: 1.6282 - val_acc: 0.8760\n",
            "Epoch 3/20\n",
            "49/49 [==============================] - 17s 354ms/step - loss: 4.5252e-09 - acc: 1.0000 - val_loss: 1.6402 - val_acc: 0.8756\n",
            "Epoch 4/20\n",
            "49/49 [==============================] - 17s 356ms/step - loss: 4.0567e-09 - acc: 1.0000 - val_loss: 1.6485 - val_acc: 0.8755\n",
            "Epoch 5/20\n",
            "49/49 [==============================] - 17s 355ms/step - loss: 3.6739e-09 - acc: 1.0000 - val_loss: 1.6567 - val_acc: 0.8755\n",
            "Epoch 6/20\n",
            "49/49 [==============================] - 17s 353ms/step - loss: 3.3581e-09 - acc: 1.0000 - val_loss: 1.6650 - val_acc: 0.8756\n",
            "Epoch 7/20\n",
            "49/49 [==============================] - 17s 352ms/step - loss: 3.1117e-09 - acc: 1.0000 - val_loss: 1.6715 - val_acc: 0.8756\n",
            "Epoch 8/20\n",
            "49/49 [==============================] - 17s 351ms/step - loss: 2.8886e-09 - acc: 1.0000 - val_loss: 1.6783 - val_acc: 0.8756\n",
            "Epoch 9/20\n",
            "49/49 [==============================] - 17s 354ms/step - loss: 2.7066e-09 - acc: 1.0000 - val_loss: 1.6832 - val_acc: 0.8755\n",
            "Epoch 10/20\n",
            "49/49 [==============================] - 17s 355ms/step - loss: 2.5390e-09 - acc: 1.0000 - val_loss: 1.6892 - val_acc: 0.8756\n",
            "Epoch 11/20\n",
            "49/49 [==============================] - 17s 358ms/step - loss: 2.4005e-09 - acc: 1.0000 - val_loss: 1.6947 - val_acc: 0.8754\n",
            "Epoch 12/20\n",
            "49/49 [==============================] - 17s 349ms/step - loss: 2.2818e-09 - acc: 1.0000 - val_loss: 1.6993 - val_acc: 0.8754\n",
            "Epoch 13/20\n",
            "49/49 [==============================] - 17s 353ms/step - loss: 2.1714e-09 - acc: 1.0000 - val_loss: 1.7041 - val_acc: 0.8755\n",
            "Epoch 14/20\n",
            "49/49 [==============================] - 17s 356ms/step - loss: 2.0765e-09 - acc: 1.0000 - val_loss: 1.7090 - val_acc: 0.8755\n",
            "Epoch 15/20\n",
            "49/49 [==============================] - 17s 345ms/step - loss: 1.9896e-09 - acc: 1.0000 - val_loss: 1.7133 - val_acc: 0.8754\n",
            "Epoch 16/20\n",
            "49/49 [==============================] - 17s 347ms/step - loss: 1.9184e-09 - acc: 1.0000 - val_loss: 1.7171 - val_acc: 0.8754\n",
            "Epoch 17/20\n",
            "49/49 [==============================] - 17s 354ms/step - loss: 1.8421e-09 - acc: 1.0000 - val_loss: 1.7210 - val_acc: 0.8754\n",
            "Epoch 18/20\n",
            "49/49 [==============================] - 17s 353ms/step - loss: 1.7830e-09 - acc: 1.0000 - val_loss: 1.7251 - val_acc: 0.8755\n",
            "Epoch 19/20\n",
            "49/49 [==============================] - 17s 344ms/step - loss: 1.7277e-09 - acc: 1.0000 - val_loss: 1.7284 - val_acc: 0.8754\n",
            "Epoch 20/20\n",
            "49/49 [==============================] - 17s 353ms/step - loss: 1.6754e-09 - acc: 1.0000 - val_loss: 1.7323 - val_acc: 0.8754\n"
          ],
          "name": "stdout"
        }
      ]
    },
    {
      "cell_type": "code",
      "metadata": {
        "id": "bEYwrP44XZqv"
      },
      "source": [
        "bigger_model_val_loss=bigger_model_hist.history['val_loss']"
      ],
      "execution_count": null,
      "outputs": []
    },
    {
      "cell_type": "code",
      "metadata": {
        "id": "FSfwB15NXqXh"
      },
      "source": [
        "import matplotlib.pyplot as plt\n",
        "\n",
        "plt.plot(epochs, original_val_loss, 'b+', label = 'Original model')\n",
        "plt.plot(epochs, bigger_model_val_loss, 'bo', label = 'Bigger model')\n",
        "plt.xlabel('Epochs')\n",
        "plt.ylabel('Validation loss')\n",
        "plt.legend()\n",
        "\n",
        "plt.show()"
      ],
      "execution_count": null,
      "outputs": []
    },
    {
      "cell_type": "code",
      "metadata": {
        "colab": {
          "base_uri": "https://localhost:8080/",
          "height": 279
        },
        "id": "vbBRpApdYGqF",
        "outputId": "2ebdf6cb-aafc-43ab-e4e7-3e22c2679881"
      },
      "source": [
        "original_train_loss = original_hist.history['loss']\n",
        "bigger_model_train_loss = bigger_model_hist.history['loss']\n",
        "\n",
        "plt.plot(epochs, original_train_loss, 'b+', label = 'Original train loss')\n",
        "plt.plot(epochs, bigger_model_train_loss, 'bo', label = 'Bigger model train loss')\n",
        "plt.xlabel('Epochs')\n",
        "plt.ylabel('Training loss')\n",
        "plt.legend()\n",
        "\n",
        "plt.show()"
      ],
      "execution_count": null,
      "outputs": [
        {
          "output_type": "display_data",
          "data": {
            "image/png": "[encoded data removed]",
            "text/plain": [
              "<Figure size 432x288 with 1 Axes>"
            ]
          },
          "metadata": {
            "tags": [],
            "needs_background": "light"
          }
        }
      ]
    },
    {
      "cell_type": "markdown",
      "metadata": {
        "id": "MXaZ5NJkb4z6"
      },
      "source": [
        "#**Adding weight regularization**\n",
        "\n",
        "---\n",
        "\n",
        "Simpler models are less likely to overfit than complex ones\n",
        "\n",
        "Simple model is a model where the parameter values has less entropy\n",
        "\n",
        "\n",
        "**L1 regularization**\n",
        "\n",
        "**L2 regularization**\n",
        "\n",
        "참고\n",
        "[URL](https://rk1993.tistory.com/entry/Ridge-regression%EC%99%80-Lasso-regression-%EC%89%BD%EA%B2%8C-%EC%9D%B4%ED%95%B4%ED%95%98%EA%B8%B0)\n",
        "\n"
      ]
    },
    {
      "cell_type": "code",
      "metadata": {
        "id": "op3Bz7mxDe2p"
      },
      "source": [
        "from keras import regularizers\n",
        "\n",
        "l2_model = models.Sequential()\n",
        "l2_model.add(layers.Dense(16, kernel_regularizer = regularizers.l2(0.001),\n",
        "                      activation = 'relu', input_shape=(10000,)))\n",
        "l2_model.add(layers.Dense(16, kernel_regularizer = regularizers.l2(0.001),\n",
        "                      activation = 'relu'))\n",
        "l2_model.add(layers.Dense(1, activation = 'sigmoid'))\n",
        "\n",
        "#0.001 이 값은 람다의 값. 이 값이 크면 클 수록 regularizer의 값을 크게 하겠다는 것."
      ],
      "execution_count": null,
      "outputs": []
    },
    {
      "cell_type": "code",
      "metadata": {
        "id": "D-ikotkgKacT"
      },
      "source": [
        "l2_model.compile(optimizer='rmsprop',\n",
        "                 loss = 'binary_crossentropy',\n",
        "                 metrics=['acc'])\n"
      ],
      "execution_count": null,
      "outputs": []
    },
    {
      "cell_type": "code",
      "metadata": {
        "colab": {
          "base_uri": "https://localhost:8080/"
        },
        "id": "Xu6l7PlUOeh4",
        "outputId": "144375e3-95c5-4f30-a084-f6243b9f86df"
      },
      "source": [
        "l2_model_hist=l2_model.fit(x_train, y_train, epochs=20, batch_size=512,validation_data=(x_test,y_test))"
      ],
      "execution_count": null,
      "outputs": [
        {
          "output_type": "stream",
          "text": [
            "Epoch 1/20\n",
            "49/49 [==============================] - 4s 68ms/step - loss: 0.4895 - acc: 0.8185 - val_loss: 0.3803 - val_acc: 0.8817\n",
            "Epoch 2/20\n",
            "49/49 [==============================] - 2s 48ms/step - loss: 0.3163 - acc: 0.9056 - val_loss: 0.3411 - val_acc: 0.8836\n",
            "Epoch 3/20\n",
            "49/49 [==============================] - 3s 53ms/step - loss: 0.2703 - acc: 0.9220 - val_loss: 0.3402 - val_acc: 0.8828\n",
            "Epoch 4/20\n",
            "49/49 [==============================] - 3s 52ms/step - loss: 0.2505 - acc: 0.9285 - val_loss: 0.3371 - val_acc: 0.8859\n",
            "Epoch 5/20\n",
            "49/49 [==============================] - 3s 53ms/step - loss: 0.2393 - acc: 0.9322 - val_loss: 0.3624 - val_acc: 0.8759\n",
            "Epoch 6/20\n",
            "49/49 [==============================] - 3s 53ms/step - loss: 0.2312 - acc: 0.9354 - val_loss: 0.3648 - val_acc: 0.8774\n",
            "Epoch 7/20\n",
            "49/49 [==============================] - 2s 46ms/step - loss: 0.2254 - acc: 0.9395 - val_loss: 0.3597 - val_acc: 0.8789\n",
            "Epoch 8/20\n",
            "49/49 [==============================] - 3s 70ms/step - loss: 0.2168 - acc: 0.9435 - val_loss: 0.3961 - val_acc: 0.8690\n",
            "Epoch 9/20\n",
            "49/49 [==============================] - 4s 75ms/step - loss: 0.2157 - acc: 0.9432 - val_loss: 0.3742 - val_acc: 0.8756\n",
            "Epoch 10/20\n",
            "49/49 [==============================] - 2s 44ms/step - loss: 0.2115 - acc: 0.9435 - val_loss: 0.3874 - val_acc: 0.8738\n",
            "Epoch 11/20\n",
            "49/49 [==============================] - 2s 42ms/step - loss: 0.2090 - acc: 0.9442 - val_loss: 0.3874 - val_acc: 0.8740\n",
            "Epoch 12/20\n",
            "49/49 [==============================] - 2s 41ms/step - loss: 0.2028 - acc: 0.9473 - val_loss: 0.3891 - val_acc: 0.8731\n",
            "Epoch 13/20\n",
            "49/49 [==============================] - 2s 46ms/step - loss: 0.2015 - acc: 0.9474 - val_loss: 0.4420 - val_acc: 0.8607\n",
            "Epoch 14/20\n",
            "49/49 [==============================] - 2s 47ms/step - loss: 0.2018 - acc: 0.9472 - val_loss: 0.5133 - val_acc: 0.8383\n",
            "Epoch 15/20\n",
            "49/49 [==============================] - 2s 43ms/step - loss: 0.1977 - acc: 0.9489 - val_loss: 0.4097 - val_acc: 0.8686\n",
            "Epoch 16/20\n",
            "49/49 [==============================] - 2s 41ms/step - loss: 0.1989 - acc: 0.9479 - val_loss: 0.4486 - val_acc: 0.8624\n",
            "Epoch 17/20\n",
            "49/49 [==============================] - 2s 47ms/step - loss: 0.1955 - acc: 0.9498 - val_loss: 0.4159 - val_acc: 0.8682\n",
            "Epoch 18/20\n",
            "49/49 [==============================] - 2s 42ms/step - loss: 0.1951 - acc: 0.9503 - val_loss: 0.4613 - val_acc: 0.8562\n",
            "Epoch 19/20\n",
            "49/49 [==============================] - 2s 47ms/step - loss: 0.1919 - acc: 0.9512 - val_loss: 0.4500 - val_acc: 0.8589\n",
            "Epoch 20/20\n",
            "49/49 [==============================] - 2s 49ms/step - loss: 0.1935 - acc: 0.9474 - val_loss: 0.4305 - val_acc: 0.8648\n"
          ],
          "name": "stdout"
        }
      ]
    },
    {
      "cell_type": "code",
      "metadata": {
        "colab": {
          "base_uri": "https://localhost:8080/",
          "height": 279
        },
        "id": "66fPStiRRQAm",
        "outputId": "ae35dde7-01c7-4d55-dc23-5f60458d0422"
      },
      "source": [
        "l2_model_val_loss = l2_model_hist.history['val_loss']\n",
        "\n",
        "plt.plot(epochs, original_val_loss, 'b+', label = 'original model')\n",
        "plt.plot(epochs, l2_model_val_loss, 'bo', label = 'L2-regularized model')\n",
        "plt.xlabel('Epochs')\n",
        "plt.ylabel('Loss')\n",
        "plt.legend()\n",
        "\n",
        "plt.show()\n"
      ],
      "execution_count": null,
      "outputs": [
        {
          "output_type": "display_data",
          "data": {
            "image/png": "[encoded data removed]",
            "text/plain": [
              "<Figure size 432x288 with 1 Axes>"
            ]
          },
          "metadata": {
            "tags": [],
            "needs_background": "light"
          }
        }
      ]
    },
    {
      "cell_type": "markdown",
      "metadata": {
        "id": "0rbJCLxwYiRS"
      },
      "source": [
        "L2 Regularization이 overfitting을 하지는 않지만, 결국 초반에는 original 모델이 loss가 더 낮음을 확인할 수 있다. 따라서 early stopping 방법등을 활용하여 original 모델을 선택하는것이 전략일 수 있음."
      ]
    },
    {
      "cell_type": "markdown",
      "metadata": {
        "id": "cVhGAiS5ZIWh"
      },
      "source": [
        "#**Adding dropout**\n",
        "\n",
        "\n",
        "---\n",
        "\n",
        "\n",
        "Randomly dropping out(setting to zero) a number of output features of the layer during training.\n",
        "\n",
        "각 레이어에서 50%씩 드랍아웃 했다고 치면, 일정 비율의 노드들을 쓰지 않는다는것?\n",
        "트레이닝을 할 때 마다 매번 다른 노드들을 활용 - > 랜덤 포레스트? 형식임\n",
        "\n",
        "장점 -> 그냥 스탠다드 뉴럴네트워크는 특정 노드드렝 편중되기 때문에 웨이트가 커지는 단점이 보인다고함, 드랍아웃 방법을 사용하면 특정 노드들이 드랍아웃 되면서 노드 편중 현상을 줄일 수 있음\n"
      ]
    },
    {
      "cell_type": "code",
      "metadata": {
        "id": "qEauVT8CY3xL"
      },
      "source": [
        "\n",
        "dpt_model = models.Sequential()\n",
        "\n",
        "dpt_model.add(layers.Dense(16, activation = 'relu', input_shape=(10000,)))\n",
        "dpt_model.add(layers.Dropout(0.5))\n",
        "dpt_model.add(layers.Dense(16, activation='relu'))\n",
        "dpt_model.add(layers.Dropout(0.5))\n",
        "dpt_model.add(layers.Dense(1,activation='sigmoid'))\n",
        "\n",
        "dpt_model.compile(optimizer = 'rmsprop',\n",
        "                  loss = 'binary_crossentropy',\n",
        "                  metrics = ['acc'])"
      ],
      "execution_count": null,
      "outputs": []
    },
    {
      "cell_type": "code",
      "metadata": {
        "colab": {
          "base_uri": "https://localhost:8080/"
        },
        "id": "sJC-pjQ32v0M",
        "outputId": "04a40791-b7d6-44df-ac04-622c2c2ae5d0"
      },
      "source": [
        "dpt_model_hist=dpt_model.fit(x_train,y_train, \n",
        "                             epochs = 20, \n",
        "                             batch_size = 512,\n",
        "                             validation_data = (x_test, y_test))"
      ],
      "execution_count": null,
      "outputs": [
        {
          "output_type": "stream",
          "text": [
            "Epoch 1/20\n",
            "49/49 [==============================] - 4s 66ms/step - loss: 0.6044 - acc: 0.6663 - val_loss: 0.4532 - val_acc: 0.8601\n",
            "Epoch 2/20\n",
            "49/49 [==============================] - 2s 49ms/step - loss: 0.4547 - acc: 0.8046 - val_loss: 0.3400 - val_acc: 0.8792\n",
            "Epoch 3/20\n",
            "49/49 [==============================] - 2s 47ms/step - loss: 0.3638 - acc: 0.8558 - val_loss: 0.2928 - val_acc: 0.8834\n",
            "Epoch 4/20\n",
            "49/49 [==============================] - 3s 52ms/step - loss: 0.2964 - acc: 0.8889 - val_loss: 0.2781 - val_acc: 0.8868\n",
            "Epoch 5/20\n",
            "49/49 [==============================] - 2s 48ms/step - loss: 0.2615 - acc: 0.9080 - val_loss: 0.2787 - val_acc: 0.8884\n",
            "Epoch 6/20\n",
            "49/49 [==============================] - 3s 52ms/step - loss: 0.2299 - acc: 0.9225 - val_loss: 0.2943 - val_acc: 0.8862\n",
            "Epoch 7/20\n",
            "49/49 [==============================] - 3s 52ms/step - loss: 0.2057 - acc: 0.9295 - val_loss: 0.3064 - val_acc: 0.8839\n",
            "Epoch 8/20\n",
            "49/49 [==============================] - 3s 52ms/step - loss: 0.1891 - acc: 0.9344 - val_loss: 0.3153 - val_acc: 0.8859\n",
            "Epoch 9/20\n",
            "49/49 [==============================] - 2s 47ms/step - loss: 0.1764 - acc: 0.9400 - val_loss: 0.3516 - val_acc: 0.8836\n",
            "Epoch 10/20\n",
            "49/49 [==============================] - 2s 47ms/step - loss: 0.1617 - acc: 0.9468 - val_loss: 0.3857 - val_acc: 0.8805\n",
            "Epoch 11/20\n",
            "49/49 [==============================] - 2s 47ms/step - loss: 0.1544 - acc: 0.9481 - val_loss: 0.3945 - val_acc: 0.8818\n",
            "Epoch 12/20\n",
            "49/49 [==============================] - 2s 51ms/step - loss: 0.1416 - acc: 0.9515 - val_loss: 0.4186 - val_acc: 0.8793\n",
            "Epoch 13/20\n",
            "49/49 [==============================] - 3s 52ms/step - loss: 0.1397 - acc: 0.9542 - val_loss: 0.4336 - val_acc: 0.8766\n",
            "Epoch 14/20\n",
            "49/49 [==============================] - 3s 53ms/step - loss: 0.1297 - acc: 0.9566 - val_loss: 0.4488 - val_acc: 0.8774\n",
            "Epoch 15/20\n",
            "49/49 [==============================] - 2s 47ms/step - loss: 0.1266 - acc: 0.9596 - val_loss: 0.5144 - val_acc: 0.8754\n",
            "Epoch 16/20\n",
            "49/49 [==============================] - 2s 47ms/step - loss: 0.1183 - acc: 0.9599 - val_loss: 0.4882 - val_acc: 0.8737\n",
            "Epoch 17/20\n",
            "49/49 [==============================] - 2s 41ms/step - loss: 0.1192 - acc: 0.9599 - val_loss: 0.5284 - val_acc: 0.8732\n",
            "Epoch 18/20\n",
            "49/49 [==============================] - 2s 51ms/step - loss: 0.1133 - acc: 0.9626 - val_loss: 0.5459 - val_acc: 0.8732\n",
            "Epoch 19/20\n",
            "49/49 [==============================] - 3s 52ms/step - loss: 0.1105 - acc: 0.9618 - val_loss: 0.5761 - val_acc: 0.8736\n",
            "Epoch 20/20\n",
            "49/49 [==============================] - 2s 47ms/step - loss: 0.1122 - acc: 0.9625 - val_loss: 0.6000 - val_acc: 0.8726\n"
          ],
          "name": "stdout"
        }
      ]
    },
    {
      "cell_type": "code",
      "metadata": {
        "colab": {
          "base_uri": "https://localhost:8080/",
          "height": 279
        },
        "id": "_XsEQXmn4Qi9",
        "outputId": "5445a285-0090-4b0b-9224-962bf5176f95"
      },
      "source": [
        "dpt_model_val_loss = dpt_model_hist.history['val_loss']\n",
        "\n",
        "plt.plot(epochs, original_val_loss, 'b+', label = 'Original model')\n",
        "plt.plot(epochs, dpt_model_val_loss, 'bo', label='Dropout-regularized model')\n",
        "plt.xlabel('Epochs')\n",
        "plt.ylabel('Loss')\n",
        "plt.legend()\n",
        "\n",
        "plt.show()"
      ],
      "execution_count": null,
      "outputs": [
        {
          "output_type": "display_data",
          "data": {
            "image/png": "[encoded data removed]",
            "text/plain": [
              "<Figure size 432x288 with 1 Axes>"
            ]
          },
          "metadata": {
            "tags": [],
            "needs_background": "light"
          }
        }
      ]
    },
    {
      "cell_type": "markdown",
      "metadata": {
        "id": "OFaaYqNZ5HK4"
      },
      "source": [
        "#**The universal workflow of machine learning**\n",
        "\n",
        "\n",
        "---\n",
        "---\n",
        "\n",
        "\n",
        "Defining the problem and assembling a dataset\n",
        "\n",
        "Choosing a measure of success\n",
        "\n",
        "Deciding on an evaluation protocol\n",
        "\n",
        "preparing your data\n",
        "\n",
        "Developing a model that does better than a baseline\n",
        "\n",
        "Developing a model that does better than a baseline.\n",
        "\n",
        "Scaling up : developing a model that overfits\n",
        "\n",
        "Regularizing your model and tuning your hyperparameters.\n"
      ]
    },
    {
      "cell_type": "code",
      "metadata": {
        "id": "7QNPIt7Z6ibH"
      },
      "source": [
        "#visit  https://colab.research.google.com/github/\n",
        "#find fchollet's github"
      ],
      "execution_count": null,
      "outputs": []
    }
  ]
}