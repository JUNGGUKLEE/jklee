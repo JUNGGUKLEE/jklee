{
  "nbformat": 4,
  "nbformat_minor": 0,
  "metadata": {
    "colab": {
      "name": "jump2py_4.19.ipynb",
      "provenance": [],
      "collapsed_sections": [],
      "authorship_tag": "ABX9TyO9uH4fL+NGQB5u1xqO/mfc",
      "include_colab_link": true
    },
    "kernelspec": {
      "name": "python3",
      "display_name": "Python 3"
    },
    "language_info": {
      "name": "python"
    }
  },
  "cells": [
    {
      "cell_type": "markdown",
      "metadata": {
        "id": "view-in-github",
        "colab_type": "text"
      },
      "source": [
        "<a href=\"https://colab.research.google.com/github/JUNGGUKLEE/jklee/blob/main/jump2py_4_19.ipynb\" target=\"_parent\"><img src=\"https://colab.research.google.com/assets/colab-badge.svg\" alt=\"Open In Colab\"/></a>"
      ]
    },
    {
      "cell_type": "code",
      "metadata": {
        "id": "i7TaU9pC9PWc"
      },
      "source": [
        "#ㄱㄱ"
      ],
      "execution_count": null,
      "outputs": []
    },
    {
      "cell_type": "code",
      "metadata": {
        "id": "szfRCRrS2anf"
      },
      "source": [
        "#문자열 2장 2열"
      ],
      "execution_count": null,
      "outputs": []
    },
    {
      "cell_type": "code",
      "metadata": {
        "id": "uLZ4d5bT35_K"
      },
      "source": [
        "#문자열로 인식하게 하는 방법은 \"\",'',\"\"\",''' 4가지 방법이 있음"
      ],
      "execution_count": null,
      "outputs": []
    },
    {
      "cell_type": "code",
      "metadata": {
        "id": "Ys0sfSTD3IiJ"
      },
      "source": [
        "food= \"Python's favorite food is perl\""
      ],
      "execution_count": 3,
      "outputs": []
    },
    {
      "cell_type": "code",
      "metadata": {
        "colab": {
          "base_uri": "https://localhost:8080/",
          "height": 35
        },
        "id": "pREBgSK83Obb",
        "outputId": "7634bcca-50f3-4a11-e330-c40a016c0ed8"
      },
      "source": [
        "food"
      ],
      "execution_count": 4,
      "outputs": [
        {
          "output_type": "execute_result",
          "data": {
            "application/vnd.google.colaboratory.intrinsic+json": {
              "type": "string"
            },
            "text/plain": [
              "\"Python's favorite food is perl\""
            ]
          },
          "metadata": {
            "tags": []
          },
          "execution_count": 4
        }
      ]
    },
    {
      "cell_type": "code",
      "metadata": {
        "id": "PZS0Z0_x3pc0"
      },
      "source": [
        "say= '\"Python is very easy.\" he says.'"
      ],
      "execution_count": 7,
      "outputs": []
    },
    {
      "cell_type": "code",
      "metadata": {
        "colab": {
          "base_uri": "https://localhost:8080/",
          "height": 35
        },
        "id": "VZxtmVXo3yam",
        "outputId": "c9aa3479-54ff-48ba-bf2d-55ccdecfe539"
      },
      "source": [
        "say"
      ],
      "execution_count": 8,
      "outputs": [
        {
          "output_type": "execute_result",
          "data": {
            "application/vnd.google.colaboratory.intrinsic+json": {
              "type": "string"
            },
            "text/plain": [
              "'\"Python is very easy.\" he says.'"
            ]
          },
          "metadata": {
            "tags": []
          },
          "execution_count": 8
        }
      ]
    },
    {
      "cell_type": "code",
      "metadata": {
        "id": "53nnCApc6qCs"
      },
      "source": [
        "#  \\n 사용해서 줄바꿈 가능하지만 \"\"\"  큰따옴표 3개로 표시하는 것도 방법"
      ],
      "execution_count": null,
      "outputs": []
    },
    {
      "cell_type": "code",
      "metadata": {
        "id": "plgTr27n6SYX"
      },
      "source": [
        "multiline_1 = \"Life is too short \\n You need to Python\""
      ],
      "execution_count": 28,
      "outputs": []
    },
    {
      "cell_type": "code",
      "metadata": {
        "colab": {
          "base_uri": "https://localhost:8080/"
        },
        "id": "nu2LPthm6Zo8",
        "outputId": "5f6c51b7-2c6c-4dbc-f947-6519e469d388"
      },
      "source": [
        "print(multiline_1)"
      ],
      "execution_count": 29,
      "outputs": [
        {
          "output_type": "stream",
          "text": [
            "Life is too short \n",
            " You need to Python\n"
          ],
          "name": "stdout"
        }
      ]
    },
    {
      "cell_type": "code",
      "metadata": {
        "id": "pRXYKFpX4JA_"
      },
      "source": [
        "multiline = \"\"\"\n",
        "Life is too short\n",
        "you need to python\n",
        "\"\"\""
      ],
      "execution_count": 30,
      "outputs": []
    },
    {
      "cell_type": "code",
      "metadata": {
        "colab": {
          "base_uri": "https://localhost:8080/"
        },
        "id": "J9ZwhVRp6dbD",
        "outputId": "7bf847d8-708b-4677-b20b-da2b88f556ef"
      },
      "source": [
        "print(multiline)"
      ],
      "execution_count": 33,
      "outputs": [
        {
          "output_type": "stream",
          "text": [
            "\n",
            "Life is too short\n",
            "you need to python\n",
            "\n"
          ],
          "name": "stdout"
        }
      ]
    },
    {
      "cell_type": "code",
      "metadata": {
        "id": "Cz2lE48468Fn"
      },
      "source": [
        "#문자열 더해서 연결하기"
      ],
      "execution_count": null,
      "outputs": []
    },
    {
      "cell_type": "code",
      "metadata": {
        "colab": {
          "base_uri": "https://localhost:8080/",
          "height": 35
        },
        "id": "kie0OwyB6-E5",
        "outputId": "d1cc45c3-21bb-4b90-a2c3-f4a112f701e4"
      },
      "source": [
        "head = \"Python \"\n",
        "tail = \" is fun!\"\n",
        "head + tail"
      ],
      "execution_count": 37,
      "outputs": [
        {
          "output_type": "execute_result",
          "data": {
            "application/vnd.google.colaboratory.intrinsic+json": {
              "type": "string"
            },
            "text/plain": [
              "'Python  is fun!'"
            ]
          },
          "metadata": {
            "tags": []
          },
          "execution_count": 37
        }
      ]
    },
    {
      "cell_type": "code",
      "metadata": {
        "colab": {
          "base_uri": "https://localhost:8080/",
          "height": 35
        },
        "id": "t8bV-KqA7Hbq",
        "outputId": "3c7d2d74-9d74-48db-cc08-b834ae5ae12e"
      },
      "source": [
        "head * 2"
      ],
      "execution_count": 35,
      "outputs": [
        {
          "output_type": "execute_result",
          "data": {
            "application/vnd.google.colaboratory.intrinsic+json": {
              "type": "string"
            },
            "text/plain": [
              "'PythonPython'"
            ]
          },
          "metadata": {
            "tags": []
          },
          "execution_count": 35
        }
      ]
    },
    {
      "cell_type": "code",
      "metadata": {
        "id": "m_PJMg_L7YJe"
      },
      "source": [
        "#문자열 길이 구하기 len() , 띄어쓰기 까지 포함하는 거임"
      ],
      "execution_count": null,
      "outputs": []
    },
    {
      "cell_type": "code",
      "metadata": {
        "colab": {
          "base_uri": "https://localhost:8080/"
        },
        "id": "eEqx6BaS7aaQ",
        "outputId": "379fab80-b75a-449d-f4db-523e700ce342"
      },
      "source": [
        "len(head)"
      ],
      "execution_count": 38,
      "outputs": [
        {
          "output_type": "execute_result",
          "data": {
            "text/plain": [
              "7"
            ]
          },
          "metadata": {
            "tags": []
          },
          "execution_count": 38
        }
      ]
    },
    {
      "cell_type": "code",
      "metadata": {
        "id": "M1bDaU9c7l4J"
      },
      "source": [
        "#문자열 인덱싱, 슬라이싱\n",
        "#인덱싱 : 가리킨다\n",
        "#슬라이싱 : 잘라낸다 라는 의미 생각하면서 공부\n",
        "#파이썬 시작은 항상 0부터!!!!!!!!!!!!!!!!!!!!!!!!!!!!!!!!"
      ],
      "execution_count": null,
      "outputs": []
    },
    {
      "cell_type": "code",
      "metadata": {
        "id": "8WnXMRFp7xak"
      },
      "source": [
        "a = \"Life is too short, You need to Python\""
      ],
      "execution_count": 39,
      "outputs": []
    },
    {
      "cell_type": "code",
      "metadata": {
        "colab": {
          "base_uri": "https://localhost:8080/",
          "height": 35
        },
        "id": "O0JrYGqM8DKm",
        "outputId": "4a88936c-2620-4cd4-9289-d8d761ff59e7"
      },
      "source": [
        "a[3]"
      ],
      "execution_count": 40,
      "outputs": [
        {
          "output_type": "execute_result",
          "data": {
            "application/vnd.google.colaboratory.intrinsic+json": {
              "type": "string"
            },
            "text/plain": [
              "'e'"
            ]
          },
          "metadata": {
            "tags": []
          },
          "execution_count": 40
        }
      ]
    },
    {
      "cell_type": "code",
      "metadata": {
        "id": "NuNn4Ggi8JgN"
      },
      "source": [
        "# ↑0123 -> 4번째 문자인 'e' 출력하는 거임"
      ],
      "execution_count": 41,
      "outputs": []
    },
    {
      "cell_type": "code",
      "metadata": {
        "id": "4s3WTfWi8pA9"
      },
      "source": [
        "# [-]은 뒤에서 부터 시작하는거임, ▼ -3은 n o h  즉 h 출력하게 되어있음"
      ],
      "execution_count": 42,
      "outputs": []
    },
    {
      "cell_type": "code",
      "metadata": {
        "colab": {
          "base_uri": "https://localhost:8080/",
          "height": 35
        },
        "id": "BRw0Re7t8sKo",
        "outputId": "b081109c-66d4-448b-f5eb-c072c9ba82e9"
      },
      "source": [
        "a[-3]"
      ],
      "execution_count": 46,
      "outputs": [
        {
          "output_type": "execute_result",
          "data": {
            "application/vnd.google.colaboratory.intrinsic+json": {
              "type": "string"
            },
            "text/plain": [
              "'h'"
            ]
          },
          "metadata": {
            "tags": []
          },
          "execution_count": 46
        }
      ]
    },
    {
      "cell_type": "code",
      "metadata": {
        "id": "ftQpxM6X9KhZ"
      },
      "source": [
        "#슬라이싱 -> 잘라낸다!!!!!!!!!"
      ],
      "execution_count": null,
      "outputs": []
    },
    {
      "cell_type": "code",
      "metadata": {
        "colab": {
          "base_uri": "https://localhost:8080/",
          "height": 52
        },
        "id": "3d3JuDlh9pCO",
        "outputId": "bbf717c7-9014-44e6-a4da-6a0ec4203954"
      },
      "source": [
        "b = a[0] + a[1] + a[2] + a[3]\n",
        "print(b)\n",
        "b"
      ],
      "execution_count": 49,
      "outputs": [
        {
          "output_type": "stream",
          "text": [
            "Life\n"
          ],
          "name": "stdout"
        },
        {
          "output_type": "execute_result",
          "data": {
            "application/vnd.google.colaboratory.intrinsic+json": {
              "type": "string"
            },
            "text/plain": [
              "'Life'"
            ]
          },
          "metadata": {
            "tags": []
          },
          "execution_count": 49
        }
      ]
    },
    {
      "cell_type": "code",
      "metadata": {
        "id": "2oNzEK7_98gW"
      },
      "source": [
        "#슬라이싱 기법으로 시작번호 끝번호 지정할 때 끝번호에 해당하는 것은 포함x"
      ],
      "execution_count": 51,
      "outputs": []
    },
    {
      "cell_type": "code",
      "metadata": {
        "colab": {
          "base_uri": "https://localhost:8080/",
          "height": 35
        },
        "id": "VZ63OaF294Wx",
        "outputId": "1bf1d5ff-30d4-48dd-a93d-73c7ad0620b2"
      },
      "source": [
        "a[0:4]"
      ],
      "execution_count": 50,
      "outputs": [
        {
          "output_type": "execute_result",
          "data": {
            "application/vnd.google.colaboratory.intrinsic+json": {
              "type": "string"
            },
            "text/plain": [
              "'Life'"
            ]
          },
          "metadata": {
            "tags": []
          },
          "execution_count": 50
        }
      ]
    },
    {
      "cell_type": "code",
      "metadata": {
        "id": "amwTcROx-5gk"
      },
      "source": [
        "#공백은 문자열과 동일하게 취급됨!!!"
      ],
      "execution_count": null,
      "outputs": []
    },
    {
      "cell_type": "code",
      "metadata": {
        "colab": {
          "base_uri": "https://localhost:8080/",
          "height": 35
        },
        "id": "tKvJJgrm-2sD",
        "outputId": "e6734eb0-82cb-4c93-f277-9ece4f4b56e6"
      },
      "source": [
        "a[0:5]"
      ],
      "execution_count": 52,
      "outputs": [
        {
          "output_type": "execute_result",
          "data": {
            "application/vnd.google.colaboratory.intrinsic+json": {
              "type": "string"
            },
            "text/plain": [
              "'Life '"
            ]
          },
          "metadata": {
            "tags": []
          },
          "execution_count": 52
        }
      ]
    }
  ]
}