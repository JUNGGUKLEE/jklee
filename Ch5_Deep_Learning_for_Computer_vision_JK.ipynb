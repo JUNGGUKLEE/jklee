{
  "nbformat": 4,
  "nbformat_minor": 0,
  "metadata": {
    "colab": {
      "name": "Ch5. Deep Learning for Computer vision_JK",
      "provenance": [],
      "authorship_tag": "ABX9TyNsd/ru+YELzlOkTr4jkztK",
      "include_colab_link": true
    },
    "kernelspec": {
      "name": "python3",
      "display_name": "Python 3"
    },
    "language_info": {
      "name": "python"
    }
  },
  "cells": [
    {
      "cell_type": "markdown",
      "metadata": {
        "id": "view-in-github",
        "colab_type": "text"
      },
      "source": [
        "<a href=\"https://colab.research.google.com/github/JUNGGUKLEE/jklee/blob/main/Ch5_Deep_Learning_for_Computer_vision_JK.ipynb\" target=\"_parent\"><img src=\"https://colab.research.google.com/assets/colab-badge.svg\" alt=\"Open In Colab\"/></a>"
      ]
    },
    {
      "cell_type": "markdown",
      "metadata": {
        "id": "MwdLLvkVDZfp"
      },
      "source": [
        "#**Deep Learning for Computer Vision**\n",
        "---\n",
        "---\n",
        "\n",
        "\n",
        "Introduction to convnetts\n",
        "\n",
        "Training a convnet from scratch on a small dataset\n",
        "\n",
        "Using a pretrained convnet\n",
        "\n",
        "Visualizing what convnet learn"
      ]
    },
    {
      "cell_type": "code",
      "metadata": {
        "colab": {
          "base_uri": "https://localhost:8080/"
        },
        "id": "fPwEAe7PDukC",
        "outputId": "8057b405-1de7-456f-e913-7bb60cdcc0f0"
      },
      "source": [
        "from keras import layers\n",
        "from keras import models\n",
        "\n",
        "model = models.Sequential()\n",
        "model.add(layers.Conv2D(32, (3,3), activation = 'relu', input_shape=(28,28,1)))\n",
        "model.add(layers.MaxPooling2D((2,2)))\n",
        "model.add(layers.Conv2D(64, (3,3), activation = 'relu'))\n",
        "model.add(layers.MaxPooling2D((2,2)))\n",
        "model.add(layers.Conv2D(64, (3,3), activation = 'relu'))\n",
        "model.add(layers.Flatten())\n",
        "model.add(layers.Dense(64, activation='relu'))\n",
        "model.add(layers.Dense(10, activation='softmax'))\n",
        "model.summary()"
      ],
      "execution_count": null,
      "outputs": [
        {
          "output_type": "stream",
          "text": [
            "Model: \"sequential\"\n",
            "_________________________________________________________________\n",
            "Layer (type)                 Output Shape              Param #   \n",
            "=================================================================\n",
            "conv2d (Conv2D)              (None, 26, 26, 32)        320       \n",
            "_________________________________________________________________\n",
            "max_pooling2d (MaxPooling2D) (None, 13, 13, 32)        0         \n",
            "_________________________________________________________________\n",
            "conv2d_1 (Conv2D)            (None, 11, 11, 64)        18496     \n",
            "_________________________________________________________________\n",
            "max_pooling2d_1 (MaxPooling2 (None, 5, 5, 64)          0         \n",
            "_________________________________________________________________\n",
            "conv2d_2 (Conv2D)            (None, 3, 3, 64)          36928     \n",
            "_________________________________________________________________\n",
            "flatten (Flatten)            (None, 576)               0         \n",
            "_________________________________________________________________\n",
            "dense (Dense)                (None, 64)                36928     \n",
            "_________________________________________________________________\n",
            "dense_1 (Dense)              (None, 10)                650       \n",
            "=================================================================\n",
            "Total params: 93,322\n",
            "Trainable params: 93,322\n",
            "Non-trainable params: 0\n",
            "_________________________________________________________________\n"
          ],
          "name": "stdout"
        }
      ]
    },
    {
      "cell_type": "code",
      "metadata": {
        "id": "Gl-l5aAvOO3T"
      },
      "source": [
        "#flatten -> con2d 에서 3*3*64 = 576 따라서 하나의 길다란 행렬이라고 생각?"
      ],
      "execution_count": null,
      "outputs": []
    },
    {
      "cell_type": "code",
      "metadata": {
        "colab": {
          "base_uri": "https://localhost:8080/"
        },
        "id": "ZmLZwzKWOlDh",
        "outputId": "8b2cc188-b0b4-41c8-dd3c-929ca80c88cb"
      },
      "source": [
        "from tensorflow.keras.datasets import mnist\n",
        "from tensorflow.keras.utils import to_categorical\n",
        "(train_images, train_labels), (test_images, test_labels) = mnist.load_data()"
      ],
      "execution_count": null,
      "outputs": [
        {
          "output_type": "stream",
          "text": [
            "Downloading data from https://storage.googleapis.com/tensorflow/tf-keras-datasets/mnist.npz\n",
            "11493376/11490434 [==============================] - 0s 0us/step\n"
          ],
          "name": "stdout"
        }
      ]
    },
    {
      "cell_type": "code",
      "metadata": {
        "id": "MuvgFTboXNZZ"
      },
      "source": [
        "train_images.shape\n",
        "\n",
        "train_images = train_images.reshape((60000,28,28,1))\n",
        "train_images = train_images.astype('float32')/255\n",
        "\n",
        "test_images = test_images.reshape((10000,28,28,1))\n",
        "test_images = test_images.astype('float32')/ 255\n",
        "\n",
        "train_labels = to_categorical(train_labels)\n",
        "test_labels = to_categorical(test_labels)"
      ],
      "execution_count": null,
      "outputs": []
    },
    {
      "cell_type": "code",
      "metadata": {
        "colab": {
          "base_uri": "https://localhost:8080/"
        },
        "id": "rTTLmzjC3EUy",
        "outputId": "d8b2e211-7a62-4ff2-89fc-c26313aaeaaa"
      },
      "source": [
        "model.compile(optimizer='rmsprop',\n",
        "              loss= 'categorical_crossentropy',\n",
        "              metrics=['accuracy'])\n",
        "\n",
        "model.fit(train_images, train_labels, epochs=5, batch_size=64)"
      ],
      "execution_count": null,
      "outputs": [
        {
          "output_type": "stream",
          "text": [
            "Epoch 1/5\n",
            "938/938 [==============================] - 61s 51ms/step - loss: 0.3988 - accuracy: 0.8709\n",
            "Epoch 2/5\n",
            "938/938 [==============================] - 45s 48ms/step - loss: 0.0509 - accuracy: 0.9848\n",
            "Epoch 3/5\n",
            "938/938 [==============================] - 48s 51ms/step - loss: 0.0333 - accuracy: 0.9891\n",
            "Epoch 4/5\n",
            "938/938 [==============================] - 46s 49ms/step - loss: 0.0230 - accuracy: 0.9932\n",
            "Epoch 5/5\n",
            "938/938 [==============================] - 46s 49ms/step - loss: 0.0191 - accuracy: 0.9939\n"
          ],
          "name": "stdout"
        },
        {
          "output_type": "execute_result",
          "data": {
            "text/plain": [
              "<keras.callbacks.History at 0x7f735f90cb50>"
            ]
          },
          "metadata": {
            "tags": []
          },
          "execution_count": 4
        }
      ]
    },
    {
      "cell_type": "code",
      "metadata": {
        "colab": {
          "base_uri": "https://localhost:8080/"
        },
        "id": "N_t74WQW41VX",
        "outputId": "bc9085d4-492f-4ec3-cfc6-3e3e0d399274"
      },
      "source": [
        "test_loss, test_acc = model.evaluate(test_images, test_labels)"
      ],
      "execution_count": null,
      "outputs": [
        {
          "output_type": "stream",
          "text": [
            "313/313 [==============================] - 3s 8ms/step - loss: 0.0412 - accuracy: 0.9878\n"
          ],
          "name": "stdout"
        }
      ]
    },
    {
      "cell_type": "code",
      "metadata": {
        "colab": {
          "base_uri": "https://localhost:8080/"
        },
        "id": "CSaSrWN75CFX",
        "outputId": "2727f100-c178-4770-ea29-28920a435640"
      },
      "source": [
        "test_acc"
      ],
      "execution_count": null,
      "outputs": [
        {
          "output_type": "execute_result",
          "data": {
            "text/plain": [
              "0.9878000020980835"
            ]
          },
          "metadata": {
            "tags": []
          },
          "execution_count": 6
        }
      ]
    },
    {
      "cell_type": "markdown",
      "metadata": {
        "id": "klPv6RXk7jSq"
      },
      "source": [
        "#**Vertical Filter**\n",
        "---\n",
        "---\n",
        "\n",
        "#**Convolution Filter**\n",
        "\n",
        "Convolution filter detect graphical structure on image\n",
        "\n",
        "We can apply multiple filters with multiple layers.\n",
        "\n",
        "The partterns they learn are translation invariant.\n",
        "\n",
        "고양이 그림에서 첫번째 레이어 에서는 간단한것을 detect.\n",
        "\n",
        "고차원쪽에서는 고양이의 눈or귀 등을 detect하는 filter가 만들어짐\n",
        "\n",
        "#**Padding**\n",
        "\n",
        "Convolution 할 때 가장자리 부분은 한쪽만 쓰이게 된다. 이것을 방지하기 위해서? 사용되는 기법\n",
        "\n",
        "가장자리를 0으로 만들어 주고 convolution 진행.\n",
        "\n",
        "#**Striding**\n",
        "\n",
        "Convolution 할 때 보통 한칸씩 전진시킴. stride가 1인 경우임.\n",
        "striding 은 전진시키는 수? \n",
        "\n",
        "---\n",
        "---\n",
        "\n",
        "#**tf.keras.layers.Conv2D**\n",
        "\n",
        "Conv2D(filters = Conv2D 필터 갯수, kernel_size=(n_row, n_column) 커널 행,열 사이즈\n",
        "\n",
        "strides = 몇칸씩 이동?\n",
        "\n",
        "padding = 'valid' or 'same'\n",
        "\n",
        "data_format = \"channels_last\" or \"channels_fist\"\n",
        "\n",
        "\n",
        "activation = activation function\n",
        "\n",
        "kernel_initializer = 'glorot_uniform'(default),...)\n",
        "\n",
        "#**Maxpooling**\n",
        "\n",
        "-Take Maximum items\n",
        "\n",
        "#**tf.keras.layers.MaxPooling2D**\n",
        "\n",
        "MaxPooling2D(pool_size = pool 하는 차원 지정 ex: (2:2),\n",
        "\n",
        "strides = 몇 칸씩 이동?\n",
        "\n",
        "padding = \"valid\" or \"same\"(go with 0 Padding)\n",
        "\n",
        "data_format = \"channels_last\", \"channel_fist\")"
      ]
    },
    {
      "cell_type": "code",
      "metadata": {
        "colab": {
          "base_uri": "https://localhost:8080/"
        },
        "id": "aK2eurixzpr1",
        "outputId": "76214ed5-0b8b-4850-bd69-e86d7256bf55"
      },
      "source": [
        "from keras import layers\n",
        "from keras import models\n",
        "\n",
        "model = models.Sequential()\n",
        "model.add(layers.Conv2D(10, (5,5), padding=\"valid\", activation = 'relu', input_shape=(28,28,1)))\n",
        "model.add(layers.MaxPooling2D((2,2)))\n",
        "model.add(layers.Conv2D(20, (5,5),padding=\"valid\", activation = 'relu'))\n",
        "model.add(layers.MaxPooling2D((2,2)))\n",
        "\n",
        "model.summary()"
      ],
      "execution_count": null,
      "outputs": [
        {
          "output_type": "stream",
          "text": [
            "Model: \"sequential\"\n",
            "_________________________________________________________________\n",
            "Layer (type)                 Output Shape              Param #   \n",
            "=================================================================\n",
            "conv2d (Conv2D)              (None, 24, 24, 10)        260       \n",
            "_________________________________________________________________\n",
            "max_pooling2d (MaxPooling2D) (None, 12, 12, 10)        0         \n",
            "_________________________________________________________________\n",
            "conv2d_1 (Conv2D)            (None, 8, 8, 20)          5020      \n",
            "_________________________________________________________________\n",
            "max_pooling2d_1 (MaxPooling2 (None, 4, 4, 20)          0         \n",
            "=================================================================\n",
            "Total params: 5,280\n",
            "Trainable params: 5,280\n",
            "Non-trainable params: 0\n",
            "_________________________________________________________________\n"
          ],
          "name": "stdout"
        }
      ]
    },
    {
      "cell_type": "code",
      "metadata": {
        "colab": {
          "base_uri": "https://localhost:8080/"
        },
        "id": "Y3pjVFyJ0Hnq",
        "outputId": "dfd2f4eb-6c3e-4c05-85e2-a39e3d08509c"
      },
      "source": [
        "model.add(layers.Flatten())\n",
        "model.add(layers.Dense(30, activation='relu'))\n",
        "model.add(layers.Dense(10,activation='softmax'))\n",
        "\n",
        "model.summary()"
      ],
      "execution_count": null,
      "outputs": [
        {
          "output_type": "stream",
          "text": [
            "Model: \"sequential\"\n",
            "_________________________________________________________________\n",
            "Layer (type)                 Output Shape              Param #   \n",
            "=================================================================\n",
            "conv2d (Conv2D)              (None, 24, 24, 10)        260       \n",
            "_________________________________________________________________\n",
            "max_pooling2d (MaxPooling2D) (None, 12, 12, 10)        0         \n",
            "_________________________________________________________________\n",
            "conv2d_1 (Conv2D)            (None, 8, 8, 20)          5020      \n",
            "_________________________________________________________________\n",
            "max_pooling2d_1 (MaxPooling2 (None, 4, 4, 20)          0         \n",
            "_________________________________________________________________\n",
            "flatten (Flatten)            (None, 320)               0         \n",
            "_________________________________________________________________\n",
            "dense (Dense)                (None, 30)                9630      \n",
            "_________________________________________________________________\n",
            "dense_1 (Dense)              (None, 10)                310       \n",
            "_________________________________________________________________\n",
            "flatten_1 (Flatten)          (None, 10)                0         \n",
            "_________________________________________________________________\n",
            "dense_2 (Dense)              (None, 30)                330       \n",
            "_________________________________________________________________\n",
            "dense_3 (Dense)              (None, 10)                310       \n",
            "=================================================================\n",
            "Total params: 15,860\n",
            "Trainable params: 15,860\n",
            "Non-trainable params: 0\n",
            "_________________________________________________________________\n"
          ],
          "name": "stdout"
        }
      ]
    },
    {
      "cell_type": "code",
      "metadata": {
        "id": "4YH114tt0hJJ"
      },
      "source": [
        "from tensorflow.keras.datasets import mnist\n",
        "from tensorflow.keras.utils import to_categorical\n",
        "(train_images, train_labels), (test_images, test_labels) = mnist.load_data()"
      ],
      "execution_count": null,
      "outputs": []
    },
    {
      "cell_type": "code",
      "metadata": {
        "id": "-RO6qyUD0rgx"
      },
      "source": [
        "train_images.shape\n",
        "\n",
        "train_images = train_images.reshape((60000,28,28,1))\n",
        "train_images = train_images.astype('float32')/255\n",
        "\n",
        "test_images = test_images.reshape((10000,28,28,1))\n",
        "test_images = test_images.astype('float32')/ 255\n",
        "\n",
        "train_labels = to_categorical(train_labels)\n",
        "test_labels = to_categorical(test_labels)"
      ],
      "execution_count": null,
      "outputs": []
    },
    {
      "cell_type": "code",
      "metadata": {
        "colab": {
          "base_uri": "https://localhost:8080/"
        },
        "id": "ZVRqOsWw0wsG",
        "outputId": "0ddb5f48-d68f-47a7-856a-ca3a908ebb55"
      },
      "source": [
        "model.compile(optimizer='rmsprop',\n",
        "              loss= 'categorical_crossentropy',\n",
        "              metrics=['accuracy'])\n",
        "\n",
        "model.fit(train_images, train_labels, epochs=5, batch_size=64)"
      ],
      "execution_count": null,
      "outputs": [
        {
          "output_type": "stream",
          "text": [
            "Epoch 1/5\n",
            "938/938 [==============================] - 27s 28ms/step - loss: 0.0582 - accuracy: 0.9860\n",
            "Epoch 2/5\n",
            "938/938 [==============================] - 26s 28ms/step - loss: 0.0481 - accuracy: 0.9876\n",
            "Epoch 3/5\n",
            "938/938 [==============================] - 26s 27ms/step - loss: 0.0401 - accuracy: 0.9898\n",
            "Epoch 4/5\n",
            "938/938 [==============================] - 26s 27ms/step - loss: 0.0378 - accuracy: 0.9903\n",
            "Epoch 5/5\n",
            "938/938 [==============================] - 26s 28ms/step - loss: 0.0351 - accuracy: 0.9902\n"
          ],
          "name": "stdout"
        },
        {
          "output_type": "execute_result",
          "data": {
            "text/plain": [
              "<keras.callbacks.History at 0x7f322191ce10>"
            ]
          },
          "metadata": {
            "tags": []
          },
          "execution_count": 7
        }
      ]
    },
    {
      "cell_type": "code",
      "metadata": {
        "colab": {
          "base_uri": "https://localhost:8080/"
        },
        "id": "uEBaLFEs6Hf1",
        "outputId": "86d8e3e1-acb0-41e9-b47b-505da89874de"
      },
      "source": [
        "test_loss, test_acc = model.evaluate(test_images, test_labels)"
      ],
      "execution_count": null,
      "outputs": [
        {
          "output_type": "stream",
          "text": [
            "313/313 [==============================] - 3s 7ms/step - loss: 0.0434 - accuracy: 0.9895\n"
          ],
          "name": "stdout"
        }
      ]
    },
    {
      "cell_type": "code",
      "metadata": {
        "colab": {
          "base_uri": "https://localhost:8080/"
        },
        "id": "YyxsMv5-6MAd",
        "outputId": "e125aeba-e219-4602-ecc9-11c6060c1e03"
      },
      "source": [
        "test_acc"
      ],
      "execution_count": null,
      "outputs": [
        {
          "output_type": "execute_result",
          "data": {
            "text/plain": [
              "0.9894999861717224"
            ]
          },
          "metadata": {
            "tags": []
          },
          "execution_count": 9
        }
      ]
    },
    {
      "cell_type": "markdown",
      "metadata": {
        "id": "7x-BxgyG6QM0"
      },
      "source": [
        "#**LeNet5**\n",
        "\n",
        "#**AlexNet**\n",
        "\n",
        "#**VGG16**\n",
        "\n",
        "#**Revolution of Depth**"
      ]
    },
    {
      "cell_type": "markdown",
      "metadata": {
        "id": "nklqwQxi-W9Z"
      },
      "source": [
        "#**ResNet**\n",
        "\n",
        "34 - layer residual 을 예시\n",
        "\n",
        "-Skil connection network is like :\n",
        "\n",
        " - Output = Input + F(Input)\n",
        "\n",
        "-Training F(x) is training residaul\n",
        " - F(Input) = Output - Input = Residaul\n",
        "\n",
        "-converges  very well for DNN"
      ]
    },
    {
      "cell_type": "markdown",
      "metadata": {
        "id": "vFg_O3bNIZJx"
      },
      "source": [
        "#**SENet architecture**\n",
        "\n",
        "Filter 중요도에 따라 웨이트를 다르게하여 이것을 모형에 반영하겠다?\n",
        "\n",
        "Dropout 방법과는 좀 다른방법인가?\n",
        "\n",
        "-SE blocks added on each ResNet blocks"
      ]
    },
    {
      "cell_type": "markdown",
      "metadata": {
        "id": "B1eeVUyYJGbP"
      },
      "source": [
        "#**Training Convnet from scratch on small dataset\n",
        "\n",
        "---\n",
        "---\n",
        "\n",
        "Training a new model from scratch using little data you have\n",
        "\n",
        "Introduce data augmentation ,a powerful technique for mitigating overfitting in computer vision\n",
        " #이미지 등을 조금씩 수정하여서 학습 데이터를 늘리는 방법\n",
        "\n",
        "Transfer learning can also help\n"
      ]
    },
    {
      "cell_type": "markdown",
      "metadata": {
        "id": "PLc2XrhgLoD0"
      },
      "source": [
        "**Ex) Dogs vs Cats Data**"
      ]
    },
    {
      "cell_type": "code",
      "metadata": {
        "colab": {
          "base_uri": "https://localhost:8080/"
        },
        "id": "mCVnug81LlmW",
        "outputId": "a52550ea-d11e-4af7-f2bc-cd1ce7303858"
      },
      "source": [
        "from keras import layers\n",
        "from keras import models\n",
        "\n",
        "model = models.Sequential()\n",
        "model.add(layers.Conv2D(32, (3,3), activation = 'relu', input_shape=(150,150,3)))\n",
        "model.add(layers.MaxPooling2D((2,2)))\n",
        "model.add(layers.Conv2D(64,(3,3), activation='relu'))\n",
        "model.add(layers.MaxPooling2D((2,2)))\n",
        "model.add(layers.Conv2D(128,(3,3), activation='relu'))\n",
        "model.add(layers.MaxPooling2D((2,2)))\n",
        "model.add(layers.Conv2D(128,(3,3), activation='relu'))\n",
        "model.add(layers.MaxPooling2D((2,2)))\n",
        "model.add(layers.Flatten())\n",
        "model.add(layers.Dense(512, activation='relu'))\n",
        "model.add(layers.Dense(1,activation='sigmoid'))\n",
        "\n",
        "\n",
        "model.summary()"
      ],
      "execution_count": null,
      "outputs": [
        {
          "output_type": "stream",
          "text": [
            "Model: \"sequential_4\"\n",
            "_________________________________________________________________\n",
            "Layer (type)                 Output Shape              Param #   \n",
            "=================================================================\n",
            "conv2d_11 (Conv2D)           (None, 148, 148, 32)      896       \n",
            "_________________________________________________________________\n",
            "max_pooling2d_10 (MaxPooling (None, 74, 74, 32)        0         \n",
            "_________________________________________________________________\n",
            "conv2d_12 (Conv2D)           (None, 72, 72, 64)        18496     \n",
            "_________________________________________________________________\n",
            "max_pooling2d_11 (MaxPooling (None, 36, 36, 64)        0         \n",
            "_________________________________________________________________\n",
            "conv2d_13 (Conv2D)           (None, 34, 34, 128)       73856     \n",
            "_________________________________________________________________\n",
            "max_pooling2d_12 (MaxPooling (None, 17, 17, 128)       0         \n",
            "_________________________________________________________________\n",
            "conv2d_14 (Conv2D)           (None, 15, 15, 128)       147584    \n",
            "_________________________________________________________________\n",
            "max_pooling2d_13 (MaxPooling (None, 7, 7, 128)         0         \n",
            "_________________________________________________________________\n",
            "flatten_4 (Flatten)          (None, 6272)              0         \n",
            "_________________________________________________________________\n",
            "dense_8 (Dense)              (None, 512)               3211776   \n",
            "_________________________________________________________________\n",
            "dense_9 (Dense)              (None, 1)                 513       \n",
            "=================================================================\n",
            "Total params: 3,453,121\n",
            "Trainable params: 3,453,121\n",
            "Non-trainable params: 0\n",
            "_________________________________________________________________\n"
          ],
          "name": "stdout"
        }
      ]
    },
    {
      "cell_type": "code",
      "metadata": {
        "colab": {
          "base_uri": "https://localhost:8080/"
        },
        "id": "jfjE9J-dQrgK",
        "outputId": "c4671775-1ea1-4349-ea78-ed961bc3afc6"
      },
      "source": [
        "from keras import optimizers\n",
        "\n",
        "model.compile(loss='binary_crossentropy',\n",
        "              optimizer=optimizers.RMSprop(lr=1e-4),\n",
        "              metrics=['acc'])"
      ],
      "execution_count": null,
      "outputs": [
        {
          "output_type": "stream",
          "text": [
            "/usr/local/lib/python3.7/dist-packages/tensorflow/python/keras/optimizer_v2/optimizer_v2.py:375: UserWarning: The `lr` argument is deprecated, use `learning_rate` instead.\n",
            "  \"The `lr` argument is deprecated, use `learning_rate` instead.\")\n"
          ],
          "name": "stderr"
        }
      ]
    },
    {
      "cell_type": "code",
      "metadata": {
        "colab": {
          "base_uri": "https://localhost:8080/",
          "height": 235
        },
        "id": "JH4XYVnkRB-G",
        "outputId": "c008a205-8126-49af-e1fa-a408ea8e7ab8"
      },
      "source": [
        "#Data Generater 부분도 중요함\n",
        "\n",
        "from keras.preprocessing.image import ImageDataGenerator\n",
        "\n",
        "train_datagen = ImageDataGenerator(rescale=1./255)\n",
        "test_datagen = ImageDataGenerator(rescale=1./255)\n",
        "\n",
        "train_generator = train_datagen.flow_from_directory(\n",
        "    train_dir,\n",
        "    target_size(150,150), #Resizes all images to 150x150\n",
        "    batch_size=20,\n",
        "    class_mode='binary')\n",
        "\n",
        "validation_generator = test_datagen.flow_from_directory(\n",
        "    validation_dir,\n",
        "    target_size=(150,150),\n",
        "    batch_size=20,\n",
        "    class_mode = 'binary')"
      ],
      "execution_count": null,
      "outputs": [
        {
          "output_type": "error",
          "ename": "NameError",
          "evalue": "ignored",
          "traceback": [
            "\u001b[0;31m---------------------------------------------------------------------------\u001b[0m",
            "\u001b[0;31mNameError\u001b[0m                                 Traceback (most recent call last)",
            "\u001b[0;32m<ipython-input-22-170bae8cca43>\u001b[0m in \u001b[0;36m<module>\u001b[0;34m()\u001b[0m\n\u001b[1;32m      7\u001b[0m \u001b[0;34m\u001b[0m\u001b[0m\n\u001b[1;32m      8\u001b[0m train_generator = train_datagen.flow_from_directory(\n\u001b[0;32m----> 9\u001b[0;31m     \u001b[0mtrain_dir\u001b[0m\u001b[0;34m,\u001b[0m\u001b[0;34m\u001b[0m\u001b[0;34m\u001b[0m\u001b[0m\n\u001b[0m\u001b[1;32m     10\u001b[0m     \u001b[0mtarget_size\u001b[0m\u001b[0;34m(\u001b[0m\u001b[0;36m150\u001b[0m\u001b[0;34m,\u001b[0m\u001b[0;36m150\u001b[0m\u001b[0;34m)\u001b[0m\u001b[0;34m,\u001b[0m \u001b[0;31m#Resizes all images to 150x150\u001b[0m\u001b[0;34m\u001b[0m\u001b[0;34m\u001b[0m\u001b[0m\n\u001b[1;32m     11\u001b[0m     \u001b[0mbatch_size\u001b[0m\u001b[0;34m=\u001b[0m\u001b[0;36m20\u001b[0m\u001b[0;34m,\u001b[0m\u001b[0;34m\u001b[0m\u001b[0;34m\u001b[0m\u001b[0m\n",
            "\u001b[0;31mNameError\u001b[0m: name 'train_dir' is not defined"
          ]
        }
      ]
    },
    {
      "cell_type": "markdown",
      "metadata": {
        "id": "F2YwooAMZL6Q"
      },
      "source": [
        "#**Google Tensorflow 예제**\n",
        "\n"
      ]
    },
    {
      "cell_type": "code",
      "metadata": {
        "id": "GOxffAO257sN"
      },
      "source": [
        "datagen = ImageDataGenerator(\n",
        "    ratation_range = 40, #그림을 몇도 돌릴 것인지?\n",
        "    width_shift_range = 0.2, #넓이와 높이를 어느정도 shift 할거 ㅅ인지?\n",
        "    height_shift_range = 0.2,\n",
        "    shear_range=0.2,#그림을 좀 왜곡시키는? 것\n",
        "    zoom_range=0.2,#얼마나 줌을 땡길 것인지?\n",
        "    horizontal_flip=True, #그림을 좌우 대칭으로 \n",
        "    fill_mode = 'nearest' #위와같은 방법을 사용하였을 때 빈 픽셀이 존재할텐데 이것을 어떻게 채워 넣을 것인지?\n",
        ")"
      ],
      "execution_count": null,
      "outputs": []
    },
    {
      "cell_type": "code",
      "metadata": {
        "colab": {
          "base_uri": "https://localhost:8080/",
          "height": 201
        },
        "id": "ZTm2NqBR7M97",
        "outputId": "41e400c8-0cd9-4bc2-aab5-87d1250dff88"
      },
      "source": [
        "from keras.preprocessing import image\n",
        "\n",
        "fnames = [os.path.join(train_cats_dir, fname) for fname in os.listdir(train_cats_dir)]\n",
        "\n",
        "img_path = fnames[3]\n",
        "\n",
        "img = image.load_img(img_path, target_size=(150,150))\n",
        "\n",
        "x = image.img_to_array(img)\n",
        "x = x.reshape((1,) + x.shape)\n",
        "\n",
        "\n",
        "i=0\n",
        "\n",
        "for batch in datagen.flow(x, batch_size=1):\n",
        "  plt.figure(i)\n",
        "  imgplot = plt.imshow(image.array_to_img(batch[0]))\n",
        "  i += 1\n",
        "  if i % 4 == 0:\n",
        "    break"
      ],
      "execution_count": null,
      "outputs": [
        {
          "output_type": "error",
          "ename": "NameError",
          "evalue": "ignored",
          "traceback": [
            "\u001b[0;31m---------------------------------------------------------------------------\u001b[0m",
            "\u001b[0;31mNameError\u001b[0m                                 Traceback (most recent call last)",
            "\u001b[0;32m<ipython-input-43-40588b37e5bc>\u001b[0m in \u001b[0;36m<module>\u001b[0;34m()\u001b[0m\n\u001b[1;32m      1\u001b[0m \u001b[0;32mfrom\u001b[0m \u001b[0mkeras\u001b[0m\u001b[0;34m.\u001b[0m\u001b[0mpreprocessing\u001b[0m \u001b[0;32mimport\u001b[0m \u001b[0mimage\u001b[0m\u001b[0;34m\u001b[0m\u001b[0;34m\u001b[0m\u001b[0m\n\u001b[1;32m      2\u001b[0m \u001b[0;34m\u001b[0m\u001b[0m\n\u001b[0;32m----> 3\u001b[0;31m \u001b[0mfnames\u001b[0m \u001b[0;34m=\u001b[0m \u001b[0;34m[\u001b[0m\u001b[0mos\u001b[0m\u001b[0;34m.\u001b[0m\u001b[0mpath\u001b[0m\u001b[0;34m.\u001b[0m\u001b[0mjoin\u001b[0m\u001b[0;34m(\u001b[0m\u001b[0mtrain_cats_dir\u001b[0m\u001b[0;34m,\u001b[0m \u001b[0mfname\u001b[0m\u001b[0;34m)\u001b[0m \u001b[0;32mfor\u001b[0m \u001b[0mfname\u001b[0m \u001b[0;32min\u001b[0m \u001b[0mos\u001b[0m\u001b[0;34m.\u001b[0m\u001b[0mlistdir\u001b[0m\u001b[0;34m(\u001b[0m\u001b[0mtrain_cats_dir\u001b[0m\u001b[0;34m)\u001b[0m\u001b[0;34m]\u001b[0m\u001b[0;34m\u001b[0m\u001b[0;34m\u001b[0m\u001b[0m\n\u001b[0m",
            "\u001b[0;31mNameError\u001b[0m: name 'train_cats_dir' is not defined"
          ]
        }
      ]
    },
    {
      "cell_type": "code",
      "metadata": {
        "id": "dNBrSXVV87Fy"
      },
      "source": [
        "model = models.Sequential()\n",
        "\n",
        "model.add(layers.Conv2D(32,(3,3), activation='relu', input_shape=(150,150,3)))\n",
        "model.add(layers.MaxPooling2D((2,2)))\n",
        "model.add(layers.Conv2D(64,(3,3), activation='relu')\n",
        "model.add(layers.MaxPooling2D((2,2)))\n",
        "model.add(layers.Conv2D(128,(3,3), activation='relu')\n",
        "model.add(layers.MaxPooling2D((2,2)))\n",
        "model.add(layers.Conv2D(128,(3,3), activation='relu')\n",
        "model.add(layers.MaxPooling2D((2,2)))\n",
        "model.add(layers.Flatten())\n",
        "model.add(layers.Dropout(0.5))\n",
        "model.add(layers.Dense(512, activation='relu'))\n",
        "model.add(layers.Dense(1, activation = 'sigmoid'))\n",
        "\n",
        "model.compile(loss='binary_crossentropy',\n",
        "              optimizer = optimizers.RMSprop(learning_rate=1e-4),\n",
        "              metrics=['acc'])"
      ],
      "execution_count": null,
      "outputs": []
    },
    {
      "cell_type": "code",
      "metadata": {
        "id": "rbHOB_Fg9apk"
      },
      "source": [
        ""
      ],
      "execution_count": null,
      "outputs": []
    }
  ]
}